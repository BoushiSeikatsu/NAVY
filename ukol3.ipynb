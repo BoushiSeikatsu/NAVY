{
 "cells": [
  {
   "cell_type": "code",
   "execution_count": null,
   "id": "import-libraries",
   "metadata": {},
   "outputs": [],
   "source": [
    "import numpy as np\n",
    "import matplotlib.pyplot as plt\n",
    "import matplotlib.animation as animation"
   ]
  },
  {
   "cell_type": "code",
   "execution_count": null,
   "id": "hopfield-network-class",
   "metadata": {},
   "outputs": [],
   "source": [
    "class HopfieldNetwork:\n",
    "    def __init__(self, size):\n",
    "        self.size = size\n",
    "        self.weights = np.zeros((size, size))\n",
    "    \n",
    "    def train(self, patterns):\n",
    "        \"\"\" Trénování Hopfieldovy sítě na binárních vzorech \"\"\"\n",
    "        for p in patterns:\n",
    "            self.weights += np.outer(p, p)\n",
    "        self.weights /= len(patterns)  # Normalizace\n",
    "        np.fill_diagonal(self.weights, 0)  # Diagonála na 0\n",
    "\n",
    "    def recall_step(self, pattern, mode='synchronous'):\n",
    "        \"\"\" Jeden krok obnovy vzoru \"\"\"\n",
    "        recalled_pattern = np.copy(pattern)\n",
    "        if mode == 'synchronous':\n",
    "            recalled_pattern = np.sign(self.weights @ recalled_pattern)\n",
    "        elif mode == 'asynchronous':\n",
    "            i = np.random.randint(self.size)  # Náhodně vybereme neuron\n",
    "            recalled_pattern[i] = np.sign(np.dot(self.weights[i], recalled_pattern))\n",
    "        return recalled_pattern"
   ]
  },
 {
   "cell_type": "code",
   "execution_count": null,
   "id": "define-patterns",
   "metadata": {},
   "outputs": [],
   "source": [
    "# Definice vzorů (5x5 binární matice jako vektor)\n",
    "patterns = np.array([\n",
    "    [-1, -1, 1, 1, -1,\n",
    "     -1, 1, -1, 1, -1,\n",
    "      1, -1, -1, -1, 1,\n",
    "     -1, 1, -1, 1, -1,\n",
    "     -1, -1, 1, 1, -1],\n",
    "    [1, 1, -1, -1, 1,\n",
    "     1, -1, 1, -1, 1,\n",
    "     -1, 1, 1, 1, -1,\n",
    "     1, -1, 1, -1, 1,\n",
    "     1, 1, -1, -1, 1],\n",
    "    [-1, 1, 1, 1, -1,\n",
    "     1, -1, -1, -1, 1,\n",
    "     1, -1, -1, -1, 1,\n",
    "     1, -1, -1, -1, 1,\n",
    "     -1, 1, 1, 1, -1]\n",
    "])"
   ]
  },
  {
   "cell_type": "code",
   "execution_count": null,
   "id": "train-hopfield-network",
   "metadata": {},
   "outputs": [],
   "source": [
    "# Inicializace Hopfieldovy sítě\n",
    "hopfield_net = HopfieldNetwork(size=25)\n",
    "hopfield_net.train(patterns)"
   ]
  },
	{
   "cell_type": "code",
   "execution_count": null,
   "id": "display-patterns",
   "metadata": {},
   "outputs": [],
   "source": [
    "# Zobrazení všech trénovacích vzorů\n",
    "fig, axes = plt.subplots(1, len(patterns), figsize=(len(patterns) * 2, 2))\n",
    "for i, pattern in enumerate(patterns):\n",
    "    ax = axes[i] if len(patterns) > 1 else axes\n",
    "    ax.imshow(pattern.reshape(5, 5), cmap='gray', vmin=-1, vmax=1)\n",
    "    ax.set_title(f'Pattern {i+1}')\n",
    "    ax.axis('off')\n",
    "plt.show()"
   ]
  },
  {
   "cell_type": "code",
   "execution_count": null,
   "id": "noisy-pattern",
   "metadata": {},
   "outputs": [],
   "source": [
    "# Poškozený vzor\n",
    "noisy_pattern = np.array([\n",
    "    -1, -1, 1, -1, -1,\n",
    "    -1, 1, -1, -1, -1,\n",
    "     1, -1, -1, -1, 1,\n",
    "    -1, 1, -1, 1, -1,\n",
    "    -1, -1, 1, 1, -1\n",
    "])"
   ]
  },
  {
   "cell_type": "code",
   "execution_count": null,
   "id": "animation-setup",
   "metadata": {},
   "outputs": [],
   "source": [
    "# Inicializace animace\n",
    "fig, ax = plt.subplots()\n",
    "pattern_display = noisy_pattern.reshape((5, 5))\n",
    "im = ax.imshow(pattern_display, cmap=\"gray\", vmin=-1, vmax=1)\n",
    "ax.set_title(\"Rekonstrukce vzoru\")\n",
    "ax.axis(\"off\")"
   ]
  },
  {
   "cell_type": "code",
   "execution_count": null,
   "id": "animation-update",
   "metadata": {},
   "outputs": [],
   "source": [
    "def update(frame):\n",
    "    global noisy_pattern\n",
    "    noisy_pattern = hopfield_net.recall_step(noisy_pattern, mode='asynchronous')\n",
    "    im.set_array(noisy_pattern.reshape((5, 5)))\n",
    "    return im,"
   ]
  },
  {
   "cell_type": "code",
   "execution_count": null,
   "id": "run-animation",
   "metadata": {},
   "outputs": [],
   "source": [
    "ani = animation.FuncAnimation(fig, update, frames=30, interval=300, blit=True)\n",
    "plt.show()"
   ]
  }
 ],
 "metadata": {
  "kernelspec": {
   "display_name": "Python 3",
   "language": "python",
   "name": "python3"
  },
  "language_info": {
   "codemirror_mode": {
    "name": "ipython",
    "version": 3
   },
   "file_extension": ".py",
   "mimetype": "text/x-python",
   "name": "python",
   "nbconvert_exporter": "python",
   "pygments_lexer": "ipython3",
   "version": "3.8.10"
  }
 }
}
